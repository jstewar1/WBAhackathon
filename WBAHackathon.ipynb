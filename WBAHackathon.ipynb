{
    "cells": [
        {
            "cell_type": "markdown", 
            "metadata": {}, 
            "source": "# Import Sales Data"
        }, 
        {
            "cell_type": "code", 
            "execution_count": 1, 
            "metadata": {}, 
            "outputs": [
                {
                    "data": {
                        "text/plain": "[Row(LOCATION=u'UK', SALES_PLAN_WEEK_ENDING=u'2017-05-09', ITEM_CODE=u'900109', EAN=u'3285', SALES_UNITS=u'-6', SALES_AT_TESP=u'-103.200000', SALES_AT_TISP=u'-103.200000'),\n Row(LOCATION=u'UK', SALES_PLAN_WEEK_ENDING=u'2017-01-10', ITEM_CODE=u'900125', EAN=u'900126', SALES_UNITS=u'120', SALES_AT_TESP=u'2010.130000', SALES_AT_TISP=u'2335.420000'),\n Row(LOCATION=u'UK', SALES_PLAN_WEEK_ENDING=u'2017-01-10', ITEM_CODE=u'900222', EAN=u'900225', SALES_UNITS=u'143', SALES_AT_TESP=u'785.600000', SALES_AT_TISP=u'994.460000'),\n Row(LOCATION=u'UK', SALES_PLAN_WEEK_ENDING=u'2017-05-09', ITEM_CODE=u'900672', EAN=u'3612', SALES_UNITS=u'14', SALES_AT_TESP=u'1454.500000', SALES_AT_TISP=u'1454.500000'),\n Row(LOCATION=u'UK', SALES_PLAN_WEEK_ENDING=u'2017-01-31', ITEM_CODE=u'900680', EAN=u'3605', SALES_UNITS=u'97', SALES_AT_TESP=u'2822.700000', SALES_AT_TISP=u'2822.700000')]"
                    }, 
                    "execution_count": 1, 
                    "metadata": {}, 
                    "output_type": "execute_result"
                }
            ], 
            "source": "\nimport ibmos2spark\n\n# @hidden_cell\ncredentials = {\n    'auth_url': 'https://identity.open.softlayer.com',\n    'project_id': 'fe7f408173be4643bbcd317ffa91d389',\n    'region': 'dallas',\n    'user_id': '369cb1f256ac4b1d8f6761cc85c1c7a9',\n    'username': 'member_7ae76d923718684278d54c5888457a6125f59653',\n    'password': 'i0xIU~r^DSSyOU3^'\n}\n\nconfiguration_name = 'os_4f086835d71249e7a28e5c06caab1694_configs'\nbmos = ibmos2spark.bluemix(sc, credentials, configuration_name)\n\nfrom pyspark.sql import SparkSession\nspark = SparkSession.builder.getOrCreate()\ndf_data_1 = spark.read\\\n  .format('org.apache.spark.sql.execution.datasources.csv.CSVFileFormat')\\\n  .option('header', 'true')\\\n  .load(bmos.url('DefaultProjectjstewar1ukibmcom', 'GB_Hackathon_Sales_UK.csv'))\ndf_data_1.take(5)\n"
        }, 
        {
            "cell_type": "code", 
            "execution_count": 2, 
            "metadata": {
                "collapsed": true
            }, 
            "outputs": [], 
            "source": "sales = df_data_1"
        }, 
        {
            "cell_type": "code", 
            "execution_count": 3, 
            "metadata": {}, 
            "outputs": [
                {
                    "data": {
                        "text/plain": "1078823"
                    }, 
                    "execution_count": 3, 
                    "metadata": {}, 
                    "output_type": "execute_result"
                }
            ], 
            "source": "sales.count()"
        }, 
        {
            "cell_type": "code", 
            "execution_count": 4, 
            "metadata": {}, 
            "outputs": [
                {
                    "output_type": "stream", 
                    "name": "stdout", 
                    "text": "+--------+----------------------+---------+-------------+-----------+-------------+-------------+\n|LOCATION|SALES_PLAN_WEEK_ENDING|ITEM_CODE|          EAN|SALES_UNITS|SALES_AT_TESP|SALES_AT_TISP|\n+--------+----------------------+---------+-------------+-----------+-------------+-------------+\n|      UK|            2017-05-09|   900109|         3285|         -6|  -103.200000|  -103.200000|\n|      UK|            2017-01-10|   900125|       900126|        120|  2010.130000|  2335.420000|\n|      UK|            2017-01-10|   900222|       900225|        143|   785.600000|   994.460000|\n|      UK|            2017-05-09|   900672|         3612|         14|  1454.500000|  1454.500000|\n|      UK|            2017-01-31|   900680|         3605|         97|  2822.700000|  2822.700000|\n|      UK|            2017-03-28|   902357|       902359|      10589| 27197.940000| 32620.480000|\n|      UK|            2017-02-28|   902438|       902434|         73|   640.530000|   768.450000|\n|      UK|            2017-01-31|   902446|       902441|        113|   563.370000|   675.920000|\n|      UK|            2017-03-07|   902977|5045090902976|      20509|   576.740000|   704.500000|\n|      UK|            2017-05-09|   903744|       903745|         -1|    -8.390000|   -10.070000|\n|      UK|            2017-02-07|   905275|       905275|       -245| -3799.380000| -4704.690000|\n|      UK|            2017-04-04|   905275|       905275|       -243| -2568.320000| -3185.580000|\n|      UK|            2017-01-03|   905755|       905756|          0|     0.000000|     0.000000|\n|      UK|            2017-04-18|   905755|       905756|          0|     0.000000|     0.000000|\n|      UK|            2017-02-07|   905763|       905763|          0|     0.000000|     0.000000|\n|      UK|            2017-04-04|   905763|       905763|          0|     0.000000|     0.000000|\n|      UK|            2017-04-25|   905763|       905763|          0|     0.000000|     0.000000|\n|      UK|            2017-01-17|   905801|       905800|          0|     0.000000|     0.000000|\n|      UK|            2017-05-16|   905801|       905800|          0|     0.000000|     0.000000|\n|      UK|            2017-01-17|   906050|       906050|      74676| 31471.710000| 39171.450000|\n+--------+----------------------+---------+-------------+-----------+-------------+-------------+\nonly showing top 20 rows\n\n"
                }
            ], 
            "source": "sales.show()"
        }, 
        {
            "cell_type": "code", 
            "execution_count": 7, 
            "metadata": {}, 
            "outputs": [
                {
                    "data": {
                        "text/plain": "StructType(List(StructField(LOCATION,StringType,true),StructField(SALES_PLAN_WEEK_ENDING,StringType,true),StructField(ITEM_CODE,StringType,true),StructField(EAN,StringType,true),StructField(SALES_UNITS,StringType,true),StructField(SALES_AT_TESP,StringType,true),StructField(SALES_AT_TISP,StringType,true)))"
                    }, 
                    "execution_count": 7, 
                    "metadata": {}, 
                    "output_type": "execute_result"
                }
            ], 
            "source": "#Check Schema\n\nsales.schema\n\n"
        }, 
        {
            "cell_type": "code", 
            "execution_count": 11, 
            "metadata": {
                "collapsed": true
            }, 
            "outputs": [], 
            "source": "sales = sales.withColumn(\"SALES_PLAN_WEEK_ENDING\", sales[\"SALES_PLAN_WEEK_ENDING\"].cast(\"date\"))"
        }, 
        {
            "cell_type": "code", 
            "execution_count": 12, 
            "metadata": {}, 
            "outputs": [
                {
                    "data": {
                        "text/plain": "StructType(List(StructField(LOCATION,StringType,true),StructField(SALES_PLAN_WEEK_ENDING,DateType,true),StructField(ITEM_CODE,StringType,true),StructField(EAN,StringType,true),StructField(SALES_UNITS,StringType,true),StructField(SALES_AT_TESP,StringType,true),StructField(SALES_AT_TISP,StringType,true)))"
                    }, 
                    "execution_count": 12, 
                    "metadata": {}, 
                    "output_type": "execute_result"
                }
            ], 
            "source": "sales.schema"
        }, 
        {
            "cell_type": "code", 
            "execution_count": 14, 
            "metadata": {}, 
            "outputs": [
                {
                    "output_type": "stream", 
                    "name": "stdout", 
                    "text": "+--------+----------------------+---------+-------------+-----------+-------------+-------------+\n|LOCATION|SALES_PLAN_WEEK_ENDING|ITEM_CODE|          EAN|SALES_UNITS|SALES_AT_TESP|SALES_AT_TISP|\n+--------+----------------------+---------+-------------+-----------+-------------+-------------+\n|      UK|            2017-05-09|   900109|         3285|         -6|  -103.200000|  -103.200000|\n|      UK|            2017-01-10|   900125|       900126|        120|  2010.130000|  2335.420000|\n|      UK|            2017-01-10|   900222|       900225|        143|   785.600000|   994.460000|\n|      UK|            2017-05-09|   900672|         3612|         14|  1454.500000|  1454.500000|\n|      UK|            2017-01-31|   900680|         3605|         97|  2822.700000|  2822.700000|\n|      UK|            2017-03-28|   902357|       902359|      10589| 27197.940000| 32620.480000|\n|      UK|            2017-02-28|   902438|       902434|         73|   640.530000|   768.450000|\n|      UK|            2017-01-31|   902446|       902441|        113|   563.370000|   675.920000|\n|      UK|            2017-03-07|   902977|5045090902976|      20509|   576.740000|   704.500000|\n|      UK|            2017-05-09|   903744|       903745|         -1|    -8.390000|   -10.070000|\n|      UK|            2017-02-07|   905275|       905275|       -245| -3799.380000| -4704.690000|\n|      UK|            2017-04-04|   905275|       905275|       -243| -2568.320000| -3185.580000|\n|      UK|            2017-01-03|   905755|       905756|          0|     0.000000|     0.000000|\n|      UK|            2017-04-18|   905755|       905756|          0|     0.000000|     0.000000|\n|      UK|            2017-02-07|   905763|       905763|          0|     0.000000|     0.000000|\n|      UK|            2017-04-04|   905763|       905763|          0|     0.000000|     0.000000|\n|      UK|            2017-04-25|   905763|       905763|          0|     0.000000|     0.000000|\n|      UK|            2017-01-17|   905801|       905800|          0|     0.000000|     0.000000|\n|      UK|            2017-05-16|   905801|       905800|          0|     0.000000|     0.000000|\n|      UK|            2017-01-17|   906050|       906050|      74676| 31471.710000| 39171.450000|\n+--------+----------------------+---------+-------------+-----------+-------------+-------------+\nonly showing top 20 rows\n\n"
                }
            ], 
            "source": "sales.show()"
        }, 
        {
            "cell_type": "code", 
            "execution_count": 17, 
            "metadata": {
                "collapsed": true
            }, 
            "outputs": [], 
            "source": "from pyspark.sql import functions as F"
        }, 
        {
            "cell_type": "code", 
            "execution_count": 18, 
            "metadata": {}, 
            "outputs": [
                {
                    "output_type": "stream", 
                    "name": "stdout", 
                    "text": "+-------------+-------------+\n|offerdate_min|offerdate_max|\n+-------------+-------------+\n|   2017-01-03|   2017-06-06|\n+-------------+-------------+\n\n"
                }
            ], 
            "source": "sales.agg(\n    F.min(\"SALES_PLAN_WEEK_ENDING\").alias(\"offerdate_min\")\n    , F.max(\"SALES_PLAN_WEEK_ENDING\").alias(\"offerdate_max\")).show()"
        }, 
        {
            "cell_type": "code", 
            "execution_count": 20, 
            "metadata": {
                "collapsed": true
            }, 
            "outputs": [], 
            "source": "sales = sales.withColumn(\"week_date\", sales[\"SALES_PLAN_WEEK_ENDING\"].cast(\"date\"))"
        }, 
        {
            "cell_type": "code", 
            "execution_count": 23, 
            "metadata": {}, 
            "outputs": [
                {
                    "output_type": "stream", 
                    "name": "stdout", 
                    "text": "+--------+----------------------+---------+-------------+-----------+-------------+-------------+----------+\n|LOCATION|SALES_PLAN_WEEK_ENDING|ITEM_CODE|          EAN|SALES_UNITS|SALES_AT_TESP|SALES_AT_TISP| week_date|\n+--------+----------------------+---------+-------------+-----------+-------------+-------------+----------+\n|      UK|            2017-05-09|   900109|         3285|         -6|  -103.200000|  -103.200000|2017-05-09|\n|      UK|            2017-01-10|   900125|       900126|        120|  2010.130000|  2335.420000|2017-01-10|\n|      UK|            2017-01-10|   900222|       900225|        143|   785.600000|   994.460000|2017-01-10|\n|      UK|            2017-05-09|   900672|         3612|         14|  1454.500000|  1454.500000|2017-05-09|\n|      UK|            2017-01-31|   900680|         3605|         97|  2822.700000|  2822.700000|2017-01-31|\n|      UK|            2017-03-28|   902357|       902359|      10589| 27197.940000| 32620.480000|2017-03-28|\n|      UK|            2017-02-28|   902438|       902434|         73|   640.530000|   768.450000|2017-02-28|\n|      UK|            2017-01-31|   902446|       902441|        113|   563.370000|   675.920000|2017-01-31|\n|      UK|            2017-03-07|   902977|5045090902976|      20509|   576.740000|   704.500000|2017-03-07|\n|      UK|            2017-05-09|   903744|       903745|         -1|    -8.390000|   -10.070000|2017-05-09|\n|      UK|            2017-02-07|   905275|       905275|       -245| -3799.380000| -4704.690000|2017-02-07|\n|      UK|            2017-04-04|   905275|       905275|       -243| -2568.320000| -3185.580000|2017-04-04|\n|      UK|            2017-01-03|   905755|       905756|          0|     0.000000|     0.000000|2017-01-03|\n|      UK|            2017-04-18|   905755|       905756|          0|     0.000000|     0.000000|2017-04-18|\n|      UK|            2017-02-07|   905763|       905763|          0|     0.000000|     0.000000|2017-02-07|\n|      UK|            2017-04-04|   905763|       905763|          0|     0.000000|     0.000000|2017-04-04|\n|      UK|            2017-04-25|   905763|       905763|          0|     0.000000|     0.000000|2017-04-25|\n|      UK|            2017-01-17|   905801|       905800|          0|     0.000000|     0.000000|2017-01-17|\n|      UK|            2017-05-16|   905801|       905800|          0|     0.000000|     0.000000|2017-05-16|\n|      UK|            2017-01-17|   906050|       906050|      74676| 31471.710000| 39171.450000|2017-01-17|\n+--------+----------------------+---------+-------------+-----------+-------------+-------------+----------+\nonly showing top 20 rows\n\n"
                }
            ], 
            "source": "sales.show()"
        }, 
        {
            "cell_type": "code", 
            "execution_count": 24, 
            "metadata": {}, 
            "outputs": [
                {
                    "output_type": "stream", 
                    "name": "stdout", 
                    "text": "+-------------+-------------+\n|offerdate_min|offerdate_max|\n+-------------+-------------+\n|   2017-01-03|   2017-06-06|\n+-------------+-------------+\n\n"
                }
            ], 
            "source": "sales.agg(\n    F.min(\"SALES_PLAN_WEEK_ENDING\").alias(\"offerdate_min\")\n    , F.max(\"SALES_PLAN_WEEK_ENDING\").alias(\"offerdate_max\")).show()"
        }, 
        {
            "cell_type": "code", 
            "execution_count": 28, 
            "metadata": {}, 
            "outputs": [
                {
                    "output_type": "stream", 
                    "name": "stdout", 
                    "text": "+----------------------+-----+\n|SALES_PLAN_WEEK_ENDING|count|\n+----------------------+-----+\n|            2017-06-06|34726|\n|            2017-05-30|45526|\n|            2017-05-23|46332|\n|            2017-05-16|45943|\n|            2017-05-09|46273|\n|            2017-05-02|46624|\n|            2017-04-25|46308|\n|            2017-04-18|45144|\n|            2017-04-11|46193|\n|            2017-04-04|46807|\n|            2017-03-28|47346|\n|            2017-03-21|46898|\n|            2017-03-14|47351|\n|            2017-03-07|48411|\n|            2017-02-28|47917|\n|            2017-02-21|47652|\n|            2017-02-14|49352|\n|            2017-02-07|49495|\n|            2017-01-31|50318|\n|            2017-01-24|51858|\n|            2017-01-17|50621|\n|            2017-01-10|50012|\n|            2017-01-03|41716|\n+----------------------+-----+\n\n"
                }
            ], 
            "source": "sales.groupBy(sales.SALES_PLAN_WEEK_ENDING).count().orderBy(\"SALES_PLAN_WEEK_ENDING\", ascending = False).show(n=30)"
        }, 
        {
            "cell_type": "code", 
            "execution_count": 32, 
            "metadata": {}, 
            "outputs": [
                {
                    "output_type": "stream", 
                    "name": "stdout", 
                    "text": "+----------------------+-----------------------------+--------------------+\n|SALES_PLAN_WEEK_ENDING|count(SALES_PLAN_WEEK_ENDING)|  sum(SALES_AT_TESP)|\n+----------------------+-----------------------------+--------------------+\n|            2017-06-06|                        34726|   7274611.029999983|\n|            2017-05-30|                        45526| 5.055279689000014E7|\n|            2017-05-23|                        46332|4.5379381610000074E7|\n|            2017-05-16|                        45943|4.5018618110000074E7|\n|            2017-05-09|                        46273| 4.548808820000006E7|\n|            2017-05-02|                        46624| 4.904305556000011E7|\n|            2017-04-25|                        46308| 4.482230760000007E7|\n|            2017-04-18|                        45144| 4.122018314000006E7|\n|            2017-04-11|                        46193|4.3700546160000116E7|\n|            2017-04-04|                        46807| 4.859775000000018E7|\n|            2017-03-28|                        47346| 4.992495818000014E7|\n|            2017-03-21|                        46898| 4.382023969000012E7|\n|            2017-03-14|                        47351|4.1734604820000134E7|\n|            2017-03-07|                        48411| 4.666810873000006E7|\n|            2017-02-28|                        47917| 4.274139539000008E7|\n|            2017-02-21|                        47652| 4.171161323000014E7|\n|            2017-02-14|                        49352| 4.229438789000003E7|\n|            2017-02-07|                        49495| 4.161336372000012E7|\n|            2017-01-31|                        50318| 4.237202653000012E7|\n|            2017-01-24|                        51858| 4.557907962000003E7|\n|            2017-01-17|                        50621| 3.934705827000006E7|\n|            2017-01-10|                        50012| 4.568207510000007E7|\n|            2017-01-03|                        41716|1.5712832909999989E7|\n+----------------------+-----------------------------+--------------------+\n\n"
                }
            ], 
            "source": "sales.groupBy(sales.SALES_PLAN_WEEK_ENDING).agg(F.count('SALES_PLAN_WEEK_ENDING'),F.sum('SALES_AT_TESP')).orderBy(\"SALES_PLAN_WEEK_ENDING\", ascending = False).show(n=30)"
        }, 
        {
            "cell_type": "code", 
            "execution_count": 36, 
            "metadata": {}, 
            "outputs": [
                {
                    "output_type": "stream", 
                    "name": "stdout", 
                    "text": "+----------------------+-----------------------------+--------------------+\n|SALES_PLAN_WEEK_ENDING|count(SALES_PLAN_WEEK_ENDING)|  sum(SALES_AT_TESP)|\n+----------------------+-----------------------------+--------------------+\n|            2017-06-06|                        34726|   7274611.029999983|\n|            2017-05-30|                        45526| 5.055279689000014E7|\n|            2017-05-23|                        46332| 4.537938161000006E7|\n|            2017-05-16|                        45943| 4.501861811000007E7|\n|            2017-05-09|                        46273|4.5488088200000055E7|\n|            2017-05-02|                        46624| 4.904305556000011E7|\n|            2017-04-25|                        46308|4.4822307600000076E7|\n|            2017-04-18|                        45144| 4.122018314000006E7|\n|            2017-04-11|                        46193|4.3700546160000116E7|\n|            2017-04-04|                        46807|4.8597750000000164E7|\n|            2017-03-28|                        47346| 4.992495818000015E7|\n|            2017-03-21|                        46898| 4.382023969000012E7|\n|            2017-03-14|                        47351|4.1734604820000134E7|\n|            2017-03-07|                        48411| 4.666810873000005E7|\n|            2017-02-28|                        47917| 4.274139539000009E7|\n|            2017-02-21|                        47652| 4.171161323000013E7|\n|            2017-02-14|                        49352| 4.229438789000002E7|\n|            2017-02-07|                        49495| 4.161336372000012E7|\n|            2017-01-31|                        50318| 4.237202653000012E7|\n|            2017-01-24|                        51858| 4.557907962000003E7|\n|            2017-01-17|                        50621| 3.934705827000007E7|\n|            2017-01-10|                        50012| 4.568207510000006E7|\n|            2017-01-03|                        41716|1.5712832909999989E7|\n+----------------------+-----------------------------+--------------------+\n\n"
                }
            ], 
            "source": "sultanOneOnly = sales.groupBy(sales.SALES_PLAN_WEEK_ENDING).agg(F.count('SALES_PLAN_WEEK_ENDING'),F.sum('SALES_AT_TESP')).orderBy(\"SALES_PLAN_WEEK_ENDING\", ascending = False).show(n=30)\n\n#sales.ITEM_CODE=='6326447'"
        }, 
        {
            "cell_type": "code", 
            "execution_count": 38, 
            "metadata": {}, 
            "outputs": [
                {
                    "output_type": "stream", 
                    "name": "stdout", 
                    "text": "+--------+----------------------+---------+-------------+-----------+-------------+-------------+----------+\n|LOCATION|SALES_PLAN_WEEK_ENDING|ITEM_CODE|          EAN|SALES_UNITS|SALES_AT_TESP|SALES_AT_TISP| week_date|\n+--------+----------------------+---------+-------------+-----------+-------------+-------------+----------+\n|      UK|            2017-05-16|  6326447|5045096326448|        522|  3764.330000|  4844.330000|2017-05-16|\n|      UK|            2017-01-31|  6326447|5045096326448|        274|  1934.560000|  2415.590000|2017-01-31|\n|      UK|            2017-02-07|  6326447|5045096326448|        292|  1838.970000|  2421.630000|2017-02-07|\n|      UK|            2017-04-04|  6326447|5045096326448|        770|  4527.640000|  5744.780000|2017-04-04|\n|      UK|            2017-04-11|  6326447|5045096326448|        794|  4803.160000|  6043.910000|2017-04-11|\n|      UK|            2017-06-06|  6326447|5045096326448|        122|   865.210000|  1133.360000|2017-06-06|\n|      UK|            2017-03-21|  6326447|5045096326448|        475|  2934.990000|  3700.460000|2017-03-21|\n|      UK|            2017-03-28|  6326447|5045096326448|        642|  3794.000000|  4827.990000|2017-03-28|\n|      UK|            2017-01-17|  6326447|5045096326448|        161|  1021.300000|  1360.210000|2017-01-17|\n|      UK|            2017-02-21|  6326447|5045096326448|        279|  1849.170000|  2400.920000|2017-02-21|\n|      UK|            2017-03-14|  6326447|5045096326448|        288|  1982.370000|  2567.140000|2017-03-14|\n|      UK|            2017-03-07|  6326447|5045096326448|        303|  2045.790000|  2684.940000|2017-03-07|\n|      UK|            2017-01-10|  6326447|5045096326448|        124|   891.740000|  1155.110000|2017-01-10|\n|      UK|            2017-02-28|  6326447|5045096326448|        228|  1555.740000|  1960.440000|2017-02-28|\n|      UK|            2017-05-02|  6326447|5045096326448|        466|  3217.890000|  4183.800000|2017-05-02|\n|      UK|            2017-01-24|  6326447|5045096326448|        173|  1209.810000|  1540.060000|2017-01-24|\n|      UK|            2017-02-14|  6326447|5045096326448|        248|  1593.220000|  2100.400000|2017-02-14|\n|      UK|            2017-05-23|  6326447|5045096326448|        646|  4695.900000|  6002.210000|2017-05-23|\n|      UK|            2017-04-25|  6326447|5045096326448|        649|  3806.250000|  4922.380000|2017-04-25|\n|      UK|            2017-05-09|  6326447|5045096326448|        448|  3140.740000|  4097.510000|2017-05-09|\n+--------+----------------------+---------+-------------+-----------+-------------+-------------+----------+\nonly showing top 20 rows\n\n"
                }
            ], 
            "source": "sales[sales.ITEM_CODE == '6326447'].show()"
        }, 
        {
            "cell_type": "code", 
            "execution_count": 40, 
            "metadata": {}, 
            "outputs": [
                {
                    "output_type": "stream", 
                    "name": "stdout", 
                    "text": "+----------------------+-----------------------------+----------------+\n|SALES_PLAN_WEEK_ENDING|count(SALES_PLAN_WEEK_ENDING)|sum(SALES_UNITS)|\n+----------------------+-----------------------------+----------------+\n|            2017-06-06|                            1|           122.0|\n|            2017-05-30|                            1|          1162.0|\n|            2017-05-23|                            1|           646.0|\n|            2017-05-16|                            1|           522.0|\n|            2017-05-09|                            1|           448.0|\n|            2017-05-02|                            1|           466.0|\n|            2017-04-25|                            1|           649.0|\n|            2017-04-18|                            1|           586.0|\n|            2017-04-11|                            1|           794.0|\n|            2017-04-04|                            1|           770.0|\n|            2017-03-28|                            1|           642.0|\n|            2017-03-21|                            1|           475.0|\n|            2017-03-14|                            1|           288.0|\n|            2017-03-07|                            1|           303.0|\n|            2017-02-28|                            1|           228.0|\n|            2017-02-21|                            1|           279.0|\n|            2017-02-14|                            1|           248.0|\n|            2017-02-07|                            1|           292.0|\n|            2017-01-31|                            1|           274.0|\n|            2017-01-24|                            1|           173.0|\n|            2017-01-17|                            1|           161.0|\n|            2017-01-10|                            1|           124.0|\n|            2017-01-03|                            1|            38.0|\n+----------------------+-----------------------------+----------------+\n\n"
                }
            ], 
            "source": "sales[sales.ITEM_CODE == '6326447'].groupBy(sales.SALES_PLAN_WEEK_ENDING).agg(F.count('SALES_PLAN_WEEK_ENDING'),F.sum('SALES_UNITS')).orderBy(\"SALES_PLAN_WEEK_ENDING\", ascending = False).show(n=30)"
        }, 
        {
            "cell_type": "code", 
            "execution_count": 111, 
            "metadata": {}, 
            "outputs": [
                {
                    "output_type": "stream", 
                    "name": "stdout", 
                    "text": "+----------------------+-----------+---------+\n|SALES_PLAN_WEEK_ENDING|SALES_UNITS|ITEM_CODE|\n+----------------------+-----------+---------+\n|            2017-06-06|         60|  2645114|\n|            2017-06-06|         82|  2731711|\n|            2017-06-06|        783|  2761076|\n|            2017-06-06|         24|  2664011|\n|            2017-06-06|        288|  2778955|\n|            2017-06-06|        154|  2658240|\n|            2017-06-06|         10|  2559072|\n|            2017-06-06|          5|  2680963|\n|            2017-06-06|        123|  2563002|\n|            2017-06-06|        172|  2579731|\n|            2017-06-06|          5|  2578832|\n|            2017-06-06|         61|  2675366|\n|            2017-06-06|        732|  2611090|\n|            2017-06-06|         58|  2550237|\n|            2017-06-06|         36|  2572273|\n|            2017-06-06|        115|  2741296|\n|            2017-06-06|        247|  2586436|\n|            2017-06-06|          8|  2690128|\n|            2017-06-06|          2|  2589508|\n|            2017-06-06|        187|  2715619|\n+----------------------+-----------+---------+\nonly showing top 20 rows\n\n"
                }, 
                {
                    "data": {
                        "text/plain": "1078823"
                    }, 
                    "execution_count": 111, 
                    "metadata": {}, 
                    "output_type": "execute_result"
                }
            ], 
            "source": "salesTrim = sales['SALES_PLAN_WEEK_ENDING','SALES_UNITS','ITEM_CODE'].orderBy(\"SALES_PLAN_WEEK_ENDING\", ascending = False)\nsalesTrim.show()\nsalesTrim.count()"
        }, 
        {
            "cell_type": "code", 
            "execution_count": 143, 
            "metadata": {}, 
            "outputs": [
                {
                    "output_type": "stream", 
                    "name": "stdout", 
                    "text": "+----------------------+-----------+---------+----------+-------+-----+\n|SALES_PLAN_WEEK_ENDING|SALES_UNITS|ITEM_CODE|      Week|Product|Units|\n+----------------------+-----------+---------+----------+-------+-----+\n|            2017-06-06|         25|  6833632|2017-06-06|6833632|   25|\n|            2017-06-06|          3|  6831869|2017-06-06|6831869|    3|\n|            2017-06-06|         -1|  6833721|2017-06-06|6833721|   -1|\n|            2017-06-06|         27|  6847056|2017-06-06|6847056|   27|\n|            2017-06-06|          1|  6835996|2017-06-06|6835996|    1|\n|            2017-06-06|          1|  6831656|2017-06-06|6831656|    1|\n|            2017-06-06|         23|  6836410|2017-06-06|6836410|   23|\n|            2017-06-06|          5|  6837778|2017-06-06|6837778|    5|\n|            2017-06-06|          1|  6834337|2017-06-06|6834337|    1|\n|            2017-06-06|          4|  6837905|2017-06-06|6837905|    4|\n|            2017-06-06|          2|  6832970|2017-06-06|6832970|    2|\n|            2017-06-06|         18|  6838286|2017-06-06|6838286|   18|\n|            2017-06-06|          1|  6833586|2017-06-06|6833586|    1|\n|            2017-06-06|          6|  6839274|2017-06-06|6839274|    6|\n|            2017-06-06|          1|  6832024|2017-06-06|6832024|    1|\n|            2017-06-06|          2|  6848753|2017-06-06|6848753|    2|\n|            2017-06-06|         43|  6841279|2017-06-06|6841279|   43|\n|            2017-06-06|          4|  6847838|2017-06-06|6847838|    4|\n|            2017-06-06|          2|  6831621|2017-06-06|6831621|    2|\n|            2017-06-06|          1|  6835325|2017-06-06|6835325|    1|\n+----------------------+-----------+---------+----------+-------+-----+\nonly showing top 20 rows\n\n"
                }
            ], 
            "source": "test2 = salesTrim.withColumn(\"Week\", salesTrim[\"SALES_PLAN_WEEK_ENDING\"])\ntest2 = test2.withColumn(\"Product\", test2[\"ITEM_CODE\"])\ntest2 = test2.withColumn(\"Units\", test2[\"SALES_UNITS\"])\ntest2.show()"
        }, 
        {
            "cell_type": "code", 
            "execution_count": 146, 
            "metadata": {}, 
            "outputs": [
                {
                    "output_type": "stream", 
                    "name": "stdout", 
                    "text": "+-------+----------+-----+\n|Product|      Week|Units|\n+-------+----------+-----+\n|2169843|2017-06-06|   30|\n|2305682|2017-06-06|    1|\n|2174138|2017-06-06|   19|\n|2223139|2017-06-06|   37|\n|2177978|2017-06-06|   15|\n|2250160|2017-06-06|   24|\n|2182319|2017-06-06|   24|\n|2259389|2017-06-06|   10|\n|2285436|2017-06-06|   12|\n|2195453|2017-06-06|   93|\n|2297140|2017-06-06|   50|\n|2238608|2017-06-06|   70|\n|2300338|2017-06-06|    7|\n|2272377|2017-06-06|  123|\n|2310635|2017-06-06|    1|\n|2278480|2017-06-06|    4|\n|2311291|2017-06-06|   24|\n|2278448|2017-06-06|  141|\n|2259966|2017-06-06|   30|\n|2190567|2017-06-06|    9|\n+-------+----------+-----+\nonly showing top 20 rows\n\n"
                }
            ], 
            "source": "trimSales = test2['Product','Week','Units']\ntrimSales.show()"
        }, 
        {
            "cell_type": "markdown", 
            "metadata": {}, 
            "source": "# Import Complaints Data"
        }, 
        {
            "cell_type": "code", 
            "execution_count": 70, 
            "metadata": {}, 
            "outputs": [
                {
                    "data": {
                        "text/plain": "[Row(Actions__c=u'e-mail sent requesting postal address to enable follow-up correspondence. \\n\\nchasing e-mail sent 18-11-2015', Reporting_Date__c=u'42278', Reporting_Date2__c=u'2015-10-01', Reporting_DateWe__c=u'2015-10-06', Month=u'Oct-15', CaseNumber=u'1486840', Summary__c=u'\"From Bazaarvoice report: \"\"I swallowed 3 full tubs of these pills (that\\'s 252 pills) in one sitting. There was absolutely NO EFFECT WHATSOEVER. No surprise', H_Process__c=u' since the product description describes it as a \"\"\"\"medicinal product without approved therapeutic indications.\"\"\"\"', Issue_Type_1__c=None, Issue_Type_2__c=None, Issue_Type_3__c=None, Issue_Type_4__c=None, Issue_Type_5__c=None, Product_Code__c=None, Primary_Supplier__r.Name=None, Account.Store_Number__c=None, Product__r.PG_Name__c=None, Product__r.Own_Brand_Flag__c=None, Product__r.Prod_Status__c=None, Product__r.SALE_UNIT52__c=None, Product__r.Category__c=None, Product__r.Product_category__c=None, Product__r.Licensed_Medicine__c=None, Product__r.Name=None, Batch_Number__c=None, Best_Before_Date__c=None, Status=None, Brand_Name=None),\n Row(Actions__c=u\"30c means there's 1 molecule of active ingredient out of 100^30 molecules. 100^30 = 10^60 is about the same number of atoms contained in 10 billion planet Earths. So\", Reporting_Date__c=u' you\\'d need to eat enough of these pills to outweigh the Earth by a factor of 10 billion to get a single active molecule. This is a scam. Save your money.\"\"\"', Reporting_Date2__c=u'Product Complaint', Reporting_DateWe__c=u'Store Purchase', Month=u'Adverse Reaction', CaseNumber=u'Other', Summary__c=None, H_Process__c=None, Issue_Type_1__c=u'3771814', Issue_Type_2__c=u'A NELSON & CO LIMITED', Issue_Type_3__c=u'351474', Issue_Type_4__c=u'COMPLEMENTARY MEDICIN', Issue_Type_5__c=u'B', Product_Code__c=None, Primary_Supplier__r.Name=u'84137', Account.Store_Number__c=u'Complementary Health', Product__r.PG_Name__c=None, Product__r.Own_Brand_Flag__c=u'Y', Product__r.Prod_Status__c=u'Boots arnica 30c tablets', Product__r.SALE_UNIT52__c=None, Product__r.Category__c=None, Product__r.Product_category__c=u'Closed', Product__r.Licensed_Medicine__c=None, Product__r.Name=None, Batch_Number__c=None, Best_Before_Date__c=None, Status=None, Brand_Name=None),\n Row(Actions__c=u'apol logged offered 200 ACP DPA\\n\\n01.10- asked for prev address\\n\\n02-10 Adv address updated and 200 pts added', Reporting_Date__c=u'42278', Reporting_Date2__c=u'2015-10-01', Reporting_DateWe__c=u'2015-10-06', Month=u'Oct-15', CaseNumber=u'1478781', Summary__c=u\"Below fields are not mapped:\\nSythetixCaseReference: 000000\\nProductName: Boots Sandwich - Simply Cheese\\n---------------------------\\nI regularly purchase your sandwiches - the 'just cheese' variety and the last 2 sandwiches I have purchased (from your Leeds Trinity store) have not been up to standard. When I chewing the sandwich, I get mouthfuls which contain some sort of grit type texture, so it cracks in my teeth (similar feeling to sand grains)? It is obviously an unpleasant experience and do not understand why this is happening as I have been buying this type of sandwich from you for years?! Please advise. Thanks\", H_Process__c=u'Product Complaint', Issue_Type_1__c=u'Store Purchase', Issue_Type_2__c=u\"Don't like\", Issue_Type_3__c=u'Quality is poor', Issue_Type_4__c=None, Issue_Type_5__c=None, Product_Code__c=u'3906922', Primary_Supplier__r.Name=u'ADELIE FOODS LIMITED', Account.Store_Number__c=u'212644', Product__r.PG_Name__c=u'SANDWICHES', Product__r.Own_Brand_Flag__c=u'B', Product__r.Prod_Status__c=None, Product__r.SALE_UNIT52__c=u'697357', Product__r.Category__c=u'Food', Product__r.Product_category__c=None, Product__r.Licensed_Medicine__c=u'N', Product__r.Name=u'Simply cheese sandwich', Batch_Number__c=None, Best_Before_Date__c=None, Status=u'Closed', Brand_Name=None),\n Row(Actions__c=u'Apol + offered 250 pts requested DPA\\n\\n2.10- offered 500 points asked for dpa again\\n\\n03.10- asked for temp card number and other dpa.\\n\\nMW - 8th October - 500p GWG on CLIC, advised her not to use her temp card (no record of it).\\n\\n08.10- cx was originally offered 250 acp and declined as she felt it was not enough,. She was then offered 500 and accepted, these have now been added via clic. Cx is now requested a further 250acp, i have advised 500 have been added and we cannot add any more at this time.', Reporting_Date__c=u'42278', Reporting_Date2__c=u'2015-10-01', Reporting_DateWe__c=u'2015-10-06', Month=u'Oct-15', CaseNumber=u'1480676', Summary__c=u'Below fields are not mapped:\\nSythetixCaseReference: 000000\\nStoreLocation: Marlow\\nStoreLocationDetails: Just off Marlow High Street\\nDateinStore: 28 September 2015 \\nTimeinStore: 1:50 ish\\n---------------------------\\nFood Complaint in regards to a Chicken and Bacon Caesar Salad Wrap being incomplete.\\nTo whom this may concern,\\n                                          I picked up the sandwich as part of your Meal Deal in your Marlow branch, which I am a big fan of but to my surprise when I got back to work at the end of my lunch break to enjoy my meal there was no chicken in it. Due to my hours I could not leave to exchange my sandwich but I was left painfully hungry for the last 5 hours of my shift. This was extremely frustrating and I have been left so upset and angry that one of my favourite lunch time destinations has let me down. I have been left very upset and am pondering as to whether I should risk spending my money here again.\\nRegards,\\nCiaran Joyce\\nA & M Industrial Cleaning Services', H_Process__c=u'Product Complaint', Issue_Type_1__c=u'Store Purchase', Issue_Type_2__c=u'Under Fill', Issue_Type_3__c=None, Issue_Type_4__c=None, Issue_Type_5__c=None, Product_Code__c=u'4814932', Primary_Supplier__r.Name=u'ADELIE FOODS LIMITED', Account.Store_Number__c=u'212644', Product__r.PG_Name__c=u'SANDWICHES', Product__r.Own_Brand_Flag__c=u'B', Product__r.Prod_Status__c=None, Product__r.SALE_UNIT52__c=u'1441102', Product__r.Category__c=u'Food', Product__r.Product_category__c=None, Product__r.Licensed_Medicine__c=u'N', Product__r.Name=u'Delicious sandwich chicken & bacon', Batch_Number__c=None, Best_Before_Date__c=None, Status=u'Closed', Brand_Name=None),\n Row(Actions__c=u'01.10- apol and sent gc', Reporting_Date__c=u'42278', Reporting_Date2__c=u'2015-10-01', Reporting_DateWe__c=u'2015-10-06', Month=u'Oct-15', CaseNumber=u'1487573', Summary__c=u\"Below fields are not mapped:\\nSythetixCaseReference: 000000\\nHomeAddress: 34 KELVINBROOK\\nKT8 1RZ\\nWEST MOLESEY (SURRE)\\nPostcode: KT8 1RZ\\nProductName: Sandwich - Delicious (BLT, PRAWN, MAYONNAISE, CHICKEN SALAD)\\n---------------------------\\nYesterday, Wednesday 30th September at 09:15am I bought a Meal Deal (Sandwich + chips + green coke) and the Sandwich had poor quality and not enough food inside (prawns). \\n\\nPlease, let me know where I can attached the pictures? \\n\\nStore: Boots Waterloo Station (UK)\\nStore Manager is: Paul Colegate\\nMi last numbers of my card are: 8017. \\n\\nI didn't take the ticket because I thought there aren't any problem (as every week Y bought my lunch at the same store) so you can find the ticket with my bank card details.\\n\\nPlease, could you refund me the price of the sandwich = pound3.25 to spend for another one in the same store?\\n\\nBest regards, \\n\\nLaura Sopena\\nlaura.sopena.garcia@gmail.com\\n07539343320\", H_Process__c=u'Product Complaint', Issue_Type_1__c=u'Store Purchase', Issue_Type_2__c=u'Under Fill', Issue_Type_3__c=None, Issue_Type_4__c=None, Issue_Type_5__c=None, Product_Code__c=u'4814991', Primary_Supplier__r.Name=u'ADELIE FOODS LIMITED', Account.Store_Number__c=u'212644', Product__r.PG_Name__c=u'SANDWICHES', Product__r.Own_Brand_Flag__c=u'B', Product__r.Prod_Status__c=None, Product__r.SALE_UNIT52__c=u'1378164', Product__r.Category__c=u'Food', Product__r.Product_category__c=None, Product__r.Licensed_Medicine__c=u'N', Product__r.Name=u'Delicious sandwich BLT-prawn-chkn', Batch_Number__c=None, Best_Before_Date__c=None, Status=u'Closed', Brand_Name=None)]"
                    }, 
                    "execution_count": 70, 
                    "metadata": {}, 
                    "output_type": "execute_result"
                }
            ], 
            "source": "complaints = spark.read\\\n  .format('org.apache.spark.sql.execution.datasources.csv.CSVFileFormat')\\\n  .option('header', 'true')\\\n  .load(bmos.url('DefaultProjectjstewar1ukibmcom', 'Complaints_BUK dash2.csv'))\ncomplaints.take(5)\n"
        }, 
        {
            "cell_type": "code", 
            "execution_count": 71, 
            "metadata": {}, 
            "outputs": [
                {
                    "output_type": "stream", 
                    "name": "stdout", 
                    "text": "+--------------------+--------------------+------------------+-------------------+----------------+----------+--------------------+--------------------+---------------+--------------------+---------------+--------------------+---------------+---------------+------------------------+-----------------------+---------------------+----------------------------+-------------------------+-------------------------+----------------------+------------------------------+-------------------------------+--------------------+---------------+-------------------+------+----------+\n|          Actions__c|   Reporting_Date__c|Reporting_Date2__c|Reporting_DateWe__c|           Month|CaseNumber|          Summary__c|        H_Process__c|Issue_Type_1__c|     Issue_Type_2__c|Issue_Type_3__c|     Issue_Type_4__c|Issue_Type_5__c|Product_Code__c|Primary_Supplier__r.Name|Account.Store_Number__c|Product__r.PG_Name__c|Product__r.Own_Brand_Flag__c|Product__r.Prod_Status__c|Product__r.SALE_UNIT52__c|Product__r.Category__c|Product__r.Product_category__c|Product__r.Licensed_Medicine__c|     Product__r.Name|Batch_Number__c|Best_Before_Date__c|Status|Brand_Name|\n+--------------------+--------------------+------------------+-------------------+----------------+----------+--------------------+--------------------+---------------+--------------------+---------------+--------------------+---------------+---------------+------------------------+-----------------------+---------------------+----------------------------+-------------------------+-------------------------+----------------------+------------------------------+-------------------------------+--------------------+---------------+-------------------+------+----------+\n|e-mail sent reque...|               42278|        2015-10-01|         2015-10-06|          Oct-15|   1486840|\"From Bazaarvoice...| since the produc...|           null|                null|           null|                null|           null|           null|                    null|                   null|                 null|                        null|                     null|                     null|                  null|                          null|                           null|                null|           null|               null|  null|      null|\n|30c means there's...| you'd need to ea...| Product Complaint|     Store Purchase|Adverse Reaction|     Other|                null|                null|        3771814|A NELSON & CO LIM...|         351474|COMPLEMENTARY MED...|              B|           null|                   84137|   Complementary Health|                 null|                           Y|     Boots arnica 30c ...|                     null|                  null|                        Closed|                           null|                null|           null|               null|  null|      null|\n|apol logged offer...|               42278|        2015-10-01|         2015-10-06|          Oct-15|   1478781|Below fields are ...|   Product Complaint| Store Purchase|          Don't like|Quality is poor|                null|           null|        3906922|    ADELIE FOODS LIMITED|                 212644|           SANDWICHES|                           B|                     null|                   697357|                  Food|                          null|                              N|Simply cheese san...|           null|               null|Closed|      null|\n|Apol + offered 25...|               42278|        2015-10-01|         2015-10-06|          Oct-15|   1480676|Below fields are ...|   Product Complaint| Store Purchase|          Under Fill|           null|                null|           null|        4814932|    ADELIE FOODS LIMITED|                 212644|           SANDWICHES|                           B|                     null|                  1441102|                  Food|                          null|                              N|Delicious sandwic...|           null|               null|Closed|      null|\n|01.10- apol and s...|               42278|        2015-10-01|         2015-10-06|          Oct-15|   1487573|Below fields are ...|   Product Complaint| Store Purchase|          Under Fill|           null|                null|           null|        4814991|    ADELIE FOODS LIMITED|                 212644|           SANDWICHES|                           B|                     null|                  1378164|                  Food|                          null|                              N|Delicious sandwic...|           null|               null|Closed|      null|\n|device letter sen...|               42278|        2015-10-01|         2015-10-06|          Oct-15|    913701|Y - Red Puffy eye...|   Product Complaint| Store Purchase|    Adverse Reaction|          Other|                null|           null|        3361837|    ALCON EYE CARE UK...|                 170151|             EYE CARE|                           B|                     null|                    39071|               Chemist|                          null|                              Y|Boots pres free 3...|        245810F|               null|Closed|      null|\n|Adviced the cx to...|               42278|        2015-10-01|         2015-10-06|          Oct-15|   1490478|I have had a reat...|   Product Complaint| Store Purchase|    Adverse Reaction|          Other|                null|           null|        1874144|    ALCON LABORATORIE...|                 104701|             EYE CARE|                           P|                     null|                    25221|               Chemist|                          null|                              Y|Systane Balance 10ml|           null|               null|Closed|      null|\n|apol - sent to su...|               42278|        2015-10-01|         2015-10-06|          Oct-15|   1488127|From: Andrea Chau...|   Product Complaint| Store Purchase|Serious - caused ...|           null|                null|           null|        6211895|       ALLOGA UK LIMITED|                 110493|        GASTRO TRAVEL|                           P|                     null|                    14010|         OTC Medicines|                          null|                              N|Jungle Formula  p...|           null|               null|Closed|      null|\n|advised we no lon...|               42278|        2015-10-01|         2015-10-06|          Oct-15|   1489667|the cx purchased ...|   Product Complaint|      Boots.com|              Faulty|           null|                null|           null|        6028659|       ALLOGA UK LIMITED|                 110493|            *FOOTCARE|                           P|                        D|                     2032|               Chemist|                          null|                              N|Micro Pedi premiu...|           null|               null|Closed|      null|\n|Customer was supp...|               42278|        2015-10-01|         2015-10-06|          Oct-15|   1490725|                null|   Product Complaint| Store Purchase|    Adverse Reaction|           Rash|                null|           null|        1088106|       ALLOGA UK LIMITED|                 110493|           CHILD MEDS|                           P|                     null|                    96688|         OTC Medicines|                          null|                              N|Lyclear shampoo &...|           null|               null|Closed|      null|\n|Called store 0772...|               42278|        2015-10-01|         2015-10-06|          Oct-15|   1485656|Cx had contacted ...|   Product Complaint|      Boots.com|         Ineffective|           null|                null|           null|        6321917|      ARTSANA UK LIMITED|                 128139|        BY-CHILD ACCS|                           P|                        Z|                      299|                  Baby|                          null|                              N|Chicco digital  s...|           null|               null|Closed|      null|\n|e-mail sent to cu...|               42278|        2015-10-01|         2015-10-06|          Oct-15|   1486887|From Bazaarvoice ...|   Product Complaint| Store Purchase|    Adverse Reaction|          Other|                null|           null|        1551078|         ATTENDS LIMITED|                 119423|         INCONTINENCE|                           B|                     null|                   138215|               Chemist|                          null|                              Y|Boots Pharma Stay...|           null|               null|Closed|      null|\n|Complaint logged ...|               42278|        2015-10-01|         2015-10-06|          Oct-15|   1487159|Cx rang back to s...|   Product Complaint| Store Purchase|         Ineffective|           null|                null|           null|        2250624|         ATTENDS LIMITED|                 119423|         INCONTINENCE|                           B|                        D|                     1026|               Chemist|                          null|                              Y|Boots Pharma stay...|           null|               null|Closed|      null|\n|01.10- apol and a...|               42278|        2015-10-01|         2015-10-06|          Oct-15|   1490907|Below fields are ...|   Product Complaint| Store Purchase|         Ineffective|           null|                null|           null|        6043364|    BARRY M COSMETICS...|                 108642|              BARRY M|                           P|                     null|                    21196|  Other Cosmetics a...|                          null|                              N|Barry M Glitrti n...|           null|               null|Closed|      null|\n|01.10- apol and a...|               42278|        2015-10-01|         2015-10-06|          Oct-15|   1488597|Below fields are ...|   Product Complaint| Store Purchase|         Ineffective|           null|                null|           null|        1897365|    BENEFIT COSMETICS...|                 129429|              BENEFIT|                           P|                        D|                    59190|  Other Cosmetics a...|                          null|                              N|Benefit Gimme Bro...|           null|               null|Closed|      null|\n|e-mail sent to cu...|               42278|        2015-10-01|         2015-10-06|          Oct-15|   1486787|From Bazaarvoice ...|   Product Complaint| Store Purchase|    Adverse Reaction|          Other|                null|           null|        1297589|       BEURER UK LIMITED|                 123013|           ANALGESICS|                           B|                     null|                     7094|         OTC Medicines|                          null|                              Y|Boots Pharma TENS...|           null|               null|Closed|      null|\n|Adv to return to ...|               42278|        2015-10-01|         2015-10-06|          Oct-15|   1485422|Below fields are ...|   Product Complaint|      Boots.com|         Ineffective|           null|                null|           null|        6201628|    BRITAX EXCELSIOR ...|                 139653|          NURSEY-GIFT|                           P|                     null|                       43|                  Baby|                          null|                              N|B AGILE 3 Neon  B...|           null|               null|Closed|      null|\n|Sent to supplier....|               42278|        2015-10-01|         2015-10-06|          Oct-15|   1485939|My eye has swolle...|   Product Complaint| Store Purchase|    Adverse Reaction|          Other|                null|           null|        1491652|    CAMBRIDGE HEALTHC...|                 122556|             EYE CARE|                           P|                        Z|                   109624|               Chemist|                          null|                              N|Golden Eye ointme...|         pn0332|               null|Closed|      null|\n|Please handle as ...|               42278|        2015-10-01|         2015-10-06|          Oct-15|   1487667|Below fields are ...|   Product Complaint| Store Purchase|              Faulty|           null|                null|           null|        2106094|    CARE DIAGNOSTICA ...|                 123188|         *HEALTHCHECK|                           B|                     null|                    13631|  Complementary Health|                          null|                              Y|Boots cholesterol...|          30484|               null|Closed|      null|\n|apol, adv to retu...|               42278|        2015-10-01|         2015-10-06|          Oct-15|   1485178|Below fields are ...|   Product Complaint| Store Purchase|   Something Missing|          Parts|                null|           null|        6203191|    CENTRE DE RECHERC...|                 110531|               FACIAL|                           C|                     null|                    27144|              Skincare|                          null|                              N|Soap & Glory Spee...|           null|               null|Closed|      null|\n+--------------------+--------------------+------------------+-------------------+----------------+----------+--------------------+--------------------+---------------+--------------------+---------------+--------------------+---------------+---------------+------------------------+-----------------------+---------------------+----------------------------+-------------------------+-------------------------+----------------------+------------------------------+-------------------------------+--------------------+---------------+-------------------+------+----------+\nonly showing top 20 rows\n\n"
                }
            ], 
            "source": "complaints.show()"
        }, 
        {
            "cell_type": "code", 
            "execution_count": 72, 
            "metadata": {}, 
            "outputs": [
                {
                    "data": {
                        "text/plain": "StructType(List(StructField(Actions__c,StringType,true),StructField(Reporting_Date__c,StringType,true),StructField(Reporting_Date2__c,StringType,true),StructField(Reporting_DateWe__c,StringType,true),StructField(Month,StringType,true),StructField(CaseNumber,StringType,true),StructField(Summary__c,StringType,true),StructField(H_Process__c,StringType,true),StructField(Issue_Type_1__c,StringType,true),StructField(Issue_Type_2__c,StringType,true),StructField(Issue_Type_3__c,StringType,true),StructField(Issue_Type_4__c,StringType,true),StructField(Issue_Type_5__c,StringType,true),StructField(Product_Code__c,StringType,true),StructField(Primary_Supplier__r.Name,StringType,true),StructField(Account.Store_Number__c,StringType,true),StructField(Product__r.PG_Name__c,StringType,true),StructField(Product__r.Own_Brand_Flag__c,StringType,true),StructField(Product__r.Prod_Status__c,StringType,true),StructField(Product__r.SALE_UNIT52__c,StringType,true),StructField(Product__r.Category__c,StringType,true),StructField(Product__r.Product_category__c,StringType,true),StructField(Product__r.Licensed_Medicine__c,StringType,true),StructField(Product__r.Name,StringType,true),StructField(Batch_Number__c,StringType,true),StructField(Best_Before_Date__c,StringType,true),StructField(Status,StringType,true),StructField(Brand_Name,StringType,true)))"
                    }, 
                    "execution_count": 72, 
                    "metadata": {}, 
                    "output_type": "execute_result"
                }
            ], 
            "source": "complaints.schema"
        }, 
        {
            "cell_type": "code", 
            "execution_count": 73, 
            "metadata": {}, 
            "outputs": [
                {
                    "output_type": "stream", 
                    "name": "stdout", 
                    "text": "+-------------------+-----+\n|Reporting_DateWe__c|count|\n+-------------------+-----+\n|         2017-06-06|    1|\n|         2017-05-16|    1|\n|         2016-09-06|    1|\n|         2016-08-23|    1|\n|         2016-08-16|    2|\n|         2016-08-02|    1|\n|         2016-07-05|    1|\n+-------------------+-----+\n\n"
                }
            ], 
            "source": "complaints[complaints.Product_Code__c == '6326447'].groupBy(complaints.Reporting_DateWe__c).count().orderBy(\"Reporting_DateWe__c\", ascending = False).show(n=30)"
        }, 
        {
            "cell_type": "code", 
            "execution_count": 74, 
            "metadata": {
                "collapsed": true
            }, 
            "outputs": [], 
            "source": "\ncomplaints2 = complaints.withColumn(\"Reporting_DateWe__c\", complaints[\"Reporting_DateWe__c\"].cast(\"date\"))"
        }, 
        {
            "cell_type": "code", 
            "execution_count": 76, 
            "metadata": {}, 
            "outputs": [
                {
                    "output_type": "stream", 
                    "name": "stdout", 
                    "text": "+-------------------+-----+\n|Reporting_DateWe__c|count|\n+-------------------+-----+\n|         2017-06-06|    1|\n|         2017-05-16|    1|\n|         2016-09-06|    1|\n|         2016-08-23|    1|\n|         2016-08-16|    2|\n|         2016-08-02|    1|\n|         2016-07-05|    1|\n+-------------------+-----+\n\n"
                }
            ], 
            "source": "complaints2[complaints2.Product_Code__c == '6326447'].groupBy(complaints2.Reporting_DateWe__c).count().orderBy(\"Reporting_DateWe__c\", ascending = False).show(n=30)"
        }, 
        {
            "cell_type": "code", 
            "execution_count": 83, 
            "metadata": {
                "collapsed": true
            }, 
            "outputs": [], 
            "source": "#complaints3 = complaints2[complaints2.Product_Code__c != '']\n#complaints3 = complaints3[complaints3.Reporting_DateWe__c != '2017-05-01']\ncomplaints4 = complaints3[complaints3.Reporting_DateWe__c >= '2017-01-01']"
        }, 
        {
            "cell_type": "code", 
            "execution_count": 85, 
            "metadata": {
                "scrolled": false
            }, 
            "outputs": [
                {
                    "output_type": "stream", 
                    "name": "stdout", 
                    "text": "+-------------------+-----+\n|Reporting_DateWe__c|count|\n+-------------------+-----+\n|         2017-06-06|  109|\n|         2017-05-30|  774|\n|         2017-05-23|  880|\n|         2017-05-16|  936|\n|         2017-05-09| 1010|\n|         2017-05-02|  895|\n|         2017-04-25|  890|\n|         2017-04-18|  529|\n|         2017-04-11|  651|\n|         2017-04-04|  723|\n|         2017-03-28|  761|\n|         2017-03-21|  755|\n|         2017-03-14|  726|\n|         2017-03-07|  799|\n|         2017-02-28|  807|\n|         2017-02-21|  841|\n|         2017-02-14|  662|\n|         2017-02-07|  749|\n|         2017-01-31|  740|\n|         2017-01-24|  761|\n|         2017-01-17|  780|\n|         2017-01-10|  761|\n|         2017-01-03|  635|\n+-------------------+-----+\n\n"
                }
            ], 
            "source": "complaints4.groupBy(complaints4.Reporting_DateWe__c).count().orderBy(\"Reporting_DateWe__c\", ascending = False).show(n=40)"
        }, 
        {
            "cell_type": "code", 
            "execution_count": 93, 
            "metadata": {}, 
            "outputs": [
                {
                    "output_type": "stream", 
                    "name": "stdout", 
                    "text": "+-------------------+---------------+\n|Reporting_DateWe__c|Product_Code__c|\n+-------------------+---------------+\n|         2017-01-03|        5961440|\n|         2017-01-03|        6602908|\n|         2017-01-03|        6120652|\n|         2017-01-03|        1040707|\n|         2017-01-03|        1980742|\n|         2017-01-03|        6341284|\n|         2017-01-03|        1946234|\n|         2017-01-03|        1745263|\n|         2017-01-03|        4887700|\n|         2017-01-03|        3075990|\n|         2017-01-03|        6132391|\n|         2017-01-03|        7866607|\n|         2017-01-03|        4354036|\n|         2017-01-03|        4956435|\n|         2017-01-03|        7772106|\n|         2017-01-03|        3373177|\n|         2017-01-03|        1056735|\n|         2017-01-03|        6707785|\n|         2017-01-03|        6341861|\n|         2017-01-03|        4917316|\n+-------------------+---------------+\nonly showing top 20 rows\n\n"
                }
            ], 
            "source": "trimComplaints = complaints4['Reporting_DateWe__c','Product_Code__c']\ntrimComplaints.show()"
        }, 
        {
            "cell_type": "code", 
            "execution_count": 96, 
            "metadata": {}, 
            "outputs": [
                {
                    "data": {
                        "text/plain": "17174"
                    }, 
                    "execution_count": 96, 
                    "metadata": {}, 
                    "output_type": "execute_result"
                }
            ], 
            "source": "trimComplaints.count()"
        }, 
        {
            "cell_type": "code", 
            "execution_count": 98, 
            "metadata": {
                "collapsed": true
            }, 
            "outputs": [], 
            "source": "tempComplaints = trimComplaints"
        }, 
        {
            "cell_type": "code", 
            "execution_count": 115, 
            "metadata": {}, 
            "outputs": [
                {
                    "output_type": "stream", 
                    "name": "stdout", 
                    "text": "+-------------------+---------------+-----+\n|Reporting_DateWe__c|Product_Code__c|count|\n+-------------------+---------------+-----+\n|         2017-06-06|        1538918|    2|\n|         2017-06-06|        7705948|    1|\n|         2017-06-06|        6180922|    1|\n|         2017-06-06|        6683460|    1|\n|         2017-06-06|        6227996|    1|\n|         2017-06-06|        6062970|    1|\n|         2017-06-06|        7673663|    1|\n|         2017-06-06|        3976718|    1|\n|         2017-06-06|        1047256|    1|\n|         2017-06-06|        6471064|    1|\n|         2017-06-06|        1838598|    1|\n|         2017-06-06|        4659031|    1|\n|         2017-06-06|        3563529|    1|\n|         2017-06-06|        6355854|    1|\n|         2017-06-06|        6294650|    1|\n|         2017-06-06|        6263674|    1|\n|         2017-06-06|        6326447|    1|\n|         2017-06-06|        6607934|    1|\n|         2017-06-06|        6630782|    1|\n|         2017-06-06|        7866232|    1|\n+-------------------+---------------+-----+\nonly showing top 20 rows\n\n"
                }, 
                {
                    "data": {
                        "text/plain": "14468"
                    }, 
                    "execution_count": 115, 
                    "metadata": {}, 
                    "output_type": "execute_result"
                }
            ], 
            "source": "#trimComplaints = tempComplaints.groupBy('Reporting_DateWe__c').agg(tempComplaints.Product_Code__c,F.count('Product_Code__c'))\n\ntrimComplaints = tempComplaints.groupBy(['Reporting_DateWe__c','Product_Code__c']).count().orderBy(\"Reporting_DateWe__c\", ascending = False)\n\ntrimComplaints.show()\ntrimComplaints.count()"
        }, 
        {
            "cell_type": "code", 
            "execution_count": 133, 
            "metadata": {}, 
            "outputs": [
                {
                    "output_type": "stream", 
                    "name": "stdout", 
                    "text": "+---------------+-------------------+-----+\n|Product_Code__c|Reporting_DateWe__c|Count|\n+---------------+-------------------+-----+\n|        1538918|         2017-06-06|    2|\n|        6227996|         2017-06-06|    1|\n|        6180922|         2017-06-06|    1|\n|        1047256|         2017-06-06|    1|\n|        1838598|         2017-06-06|    1|\n|        6062970|         2017-06-06|    1|\n|        6355854|         2017-06-06|    1|\n|        6326447|         2017-06-06|    1|\n|        6630782|         2017-06-06|    1|\n|        7866232|         2017-06-06|    1|\n|        6471064|         2017-06-06|    1|\n|        3563529|         2017-06-06|    1|\n|        7705948|         2017-06-06|    1|\n|        6294650|         2017-06-06|    1|\n|        7673663|         2017-06-06|    1|\n|        6263674|         2017-06-06|    1|\n|        4659031|         2017-06-06|    1|\n|        3976718|         2017-06-06|    1|\n|        6607934|         2017-06-06|    1|\n|        6683460|         2017-06-06|    1|\n+---------------+-------------------+-----+\nonly showing top 20 rows\n\n"
                }
            ], 
            "source": "test = trimComplaints['Product_Code__c','Reporting_DateWe__c', 'count']\n\ntest = test.withColumn(\"Count\", test[\"count\"])\n\n#test.columns = ['Product','Reporting','UniqueCount']\ntest.show()"
        }, 
        {
            "cell_type": "code", 
            "execution_count": 138, 
            "metadata": {}, 
            "outputs": [
                {
                    "output_type": "stream", 
                    "name": "stdout", 
                    "text": "+---------------+-------------------+-----+\n|Product_Code__c|Reporting_DateWe__c|Count|\n+---------------+-------------------+-----+\n|        6701043|         2017-05-23|   18|\n|        6701035|         2017-05-23|   20|\n|        6701035|         2017-05-16|   19|\n|        6701035|         2017-05-09|   18|\n|        6241905|         2017-05-02|   22|\n+---------------+-------------------+-----+\n\n"
                }
            ], 
            "source": "trimComplaints = test\n\ntrimComplaints[trimComplaints.Count >= 15].show()"
        }, 
        {
            "cell_type": "code", 
            "execution_count": 140, 
            "metadata": {}, 
            "outputs": [
                {
                    "output_type": "stream", 
                    "name": "stdout", 
                    "text": "+-------+----------+-----+\n|Product|      Week|Count|\n+-------+----------+-----+\n|1538918|2017-06-06|    2|\n|7705948|2017-06-06|    1|\n|6180922|2017-06-06|    1|\n|6683460|2017-06-06|    1|\n|6227996|2017-06-06|    1|\n|6062970|2017-06-06|    1|\n|7673663|2017-06-06|    1|\n|6263674|2017-06-06|    1|\n|1047256|2017-06-06|    1|\n|6471064|2017-06-06|    1|\n|1838598|2017-06-06|    1|\n|6326447|2017-06-06|    1|\n|3563529|2017-06-06|    1|\n|6355854|2017-06-06|    1|\n|6294650|2017-06-06|    1|\n|3976718|2017-06-06|    1|\n|6607934|2017-06-06|    1|\n|6630782|2017-06-06|    1|\n|4659031|2017-06-06|    1|\n|7866232|2017-06-06|    1|\n+-------+----------+-----+\nonly showing top 20 rows\n\n"
                }
            ], 
            "source": "test = trimComplaints.withColumn(\"Product\", trimComplaints[\"Product_Code__c\"])\ntest = test.withColumn(\"Week\", test[\"Reporting_DateWe__c\"])\ntest = test.withColumn(\"Count\", test[\"Count\"])\ntest = test['Product','Week','Count']\n\n"
        }, 
        {
            "cell_type": "code", 
            "execution_count": 141, 
            "metadata": {}, 
            "outputs": [
                {
                    "output_type": "stream", 
                    "name": "stdout", 
                    "text": "+-------+----------+-----+\n|Product|      Week|Count|\n+-------+----------+-----+\n|1538918|2017-06-06|    2|\n|6227996|2017-06-06|    1|\n|6180922|2017-06-06|    1|\n|6630782|2017-06-06|    1|\n|1838598|2017-06-06|    1|\n|6062970|2017-06-06|    1|\n|7673663|2017-06-06|    1|\n|4659031|2017-06-06|    1|\n|1047256|2017-06-06|    1|\n|7866232|2017-06-06|    1|\n|6471064|2017-06-06|    1|\n|7705948|2017-06-06|    1|\n|3563529|2017-06-06|    1|\n|6355854|2017-06-06|    1|\n|6294650|2017-06-06|    1|\n|6263674|2017-06-06|    1|\n|6326447|2017-06-06|    1|\n|3976718|2017-06-06|    1|\n|6607934|2017-06-06|    1|\n|6683460|2017-06-06|    1|\n+-------+----------+-----+\nonly showing top 20 rows\n\n"
                }
            ], 
            "source": "trimComplaints = test\ntrimComplaints.show()"
        }, 
        {
            "cell_type": "markdown", 
            "metadata": {}, 
            "source": "# Join the tables"
        }, 
        {
            "cell_type": "code", 
            "execution_count": 149, 
            "metadata": {}, 
            "outputs": [
                {
                    "output_type": "stream", 
                    "name": "stdout", 
                    "text": "+-------+----------+-----+-----+\n|Product|      Week|Count|Units|\n+-------+----------+-----+-----+\n|6701043|2017-06-06|    1| 2079|\n|6816770|2017-06-06|    1|    5|\n|6818447|2017-06-06|    1|  642|\n|6227996|2017-06-06|    1|   41|\n|6227937|2017-06-06|    1|  162|\n|6227910|2017-06-06|    1|  244|\n|6227929|2017-06-06|    1|  153|\n|6241913|2017-06-06|    1|  609|\n|6241905|2017-06-06|    3|  752|\n|6263674|2017-06-06|    1|  111|\n|6289770|2017-06-06|    1|   97|\n|6294650|2017-06-06|    1|   16|\n|6326447|2017-06-06|    1|  122|\n|6326439|2017-06-06|    1|  169|\n|6350151|2017-06-06|    1|    3|\n|6355854|2017-06-06|    1|   46|\n|6367364|2017-06-06|    1|  265|\n|6382274|2017-06-06|    1|   23|\n|6413897|2017-06-06|    1|  175|\n|6417159|2017-06-06|    1|   19|\n+-------+----------+-----+-----+\nonly showing top 20 rows\n\n"
                }, 
                {
                    "data": {
                        "text/plain": "12860"
                    }, 
                    "execution_count": 149, 
                    "metadata": {}, 
                    "output_type": "execute_result"
                }
            ], 
            "source": "fullTable = trimComplaints.join(trimSales.select(['Product','Week','Units']), [\"Product\", \"Week\"], how = \"inner\")\n\n\n\nfullTable.show()\nfullTable.count()\n"
        }, 
        {
            "cell_type": "code", 
            "execution_count": 151, 
            "metadata": {}, 
            "outputs": [
                {
                    "output_type": "stream", 
                    "name": "stdout", 
                    "text": "+-------+----------+-----+-----+\n|Product|      Week|Count|Units|\n+-------+----------+-----+-----+\n|6701043|2017-05-23|   18|15774|\n|6701035|2017-05-23|   20|15379|\n|6701035|2017-05-16|   19|15599|\n|6701035|2017-05-09|   18|17848|\n|6241905|2017-05-02|   22| 8990|\n+-------+----------+-----+-----+\n\n"
                }
            ], 
            "source": "fullTable[fullTable.Count>15].show()"
        }, 
        {
            "cell_type": "code", 
            "execution_count": 161, 
            "metadata": {}, 
            "outputs": [
                {
                    "output_type": "stream", 
                    "name": "stdout", 
                    "text": "+-------+----------+-----+-----+-------------------+\n|Product|      Week|Count|Units|            Divider|\n+-------+----------+-----+-----+-------------------+\n|1017233|2017-06-06|    1|  163| 0.6134969325153374|\n|1046780|2017-06-06|    1|    8|               12.5|\n|1047256|2017-06-06|    1|   36| 2.7777777777777777|\n|1084488|2017-06-06|    1|  135| 0.7407407407407407|\n|1131818|2017-06-06|    1|  486|  0.205761316872428|\n|1297627|2017-06-06|    1|   17|  5.882352941176471|\n|1484583|2017-06-06|    1|   11|  9.090909090909092|\n|1538918|2017-06-06|    2|  934|0.21413276231263384|\n|1700952|2017-06-06|    1|   82| 1.2195121951219512|\n|1707124|2017-06-06|    1|   81| 1.2345679012345678|\n|1838598|2017-06-06|    1|  121| 0.8264462809917356|\n|1871331|2017-06-06|    1|  412|0.24271844660194175|\n|2017539|2017-06-06|    1|    1|              100.0|\n|2106000|2017-06-06|    1|   40|                2.5|\n|2087367|2017-06-06|    1|   43| 2.3255813953488373|\n|2202832|2017-06-06|    1|  456|0.21929824561403508|\n|6871720|2017-06-06|    1|  544|0.18382352941176472|\n|6923518|2017-06-06|    1|    8|               12.5|\n|6925715|2017-06-06|    1|    1|              100.0|\n|7705948|2017-06-06|    1|    3| 33.333333333333336|\n+-------+----------+-----+-----+-------------------+\nonly showing top 20 rows\n\n"
                }
            ], 
            "source": "test = fullTable.withColumn(\"Divider\", (100*fullTable.Count)/fullTable.Units)\ntest.show()"
        }, 
        {
            "cell_type": "code", 
            "execution_count": 166, 
            "metadata": {}, 
            "outputs": [
                {
                    "output_type": "stream", 
                    "name": "stdout", 
                    "text": "+-------+----------+-----+-----+------------------+\n|Product|      Week|Count|Units|           Divider|\n+-------+----------+-----+-----+------------------+\n|2017539|2017-06-06|    1|    1|             100.0|\n|6619452|2017-06-06|    1|    2|              50.0|\n|6648622|2017-06-06|    1|    1|             100.0|\n|6925715|2017-06-06|    1|    1|             100.0|\n|7705948|2017-06-06|    1|    3|33.333333333333336|\n|5663377|2017-06-06|    1|    1|             100.0|\n|6041574|2017-06-06|    1|    2|              50.0|\n|6114830|2017-06-06|    1|    2|              50.0|\n|6350151|2017-06-06|    1|    3|33.333333333333336|\n|6628257|2017-05-30|    1|    3|33.333333333333336|\n|6630847|2017-05-30|    1|    4|              25.0|\n|6661386|2017-05-30|    1|    3|33.333333333333336|\n|5116643|2017-05-30|    1|    1|             100.0|\n|6888976|2017-05-30|    1|    1|             100.0|\n|7673647|2017-05-30|    1|    3|33.333333333333336|\n|1219332|2017-05-30|    1|    4|              25.0|\n|1630288|2017-05-30|    1|    1|             100.0|\n|1630245|2017-05-30|    1|    3|33.333333333333336|\n|6396984|2017-05-30|    1|    3|33.333333333333336|\n|6442269|2017-05-30|    2|    5|              40.0|\n+-------+----------+-----+-----+------------------+\nonly showing top 20 rows\n\n"
                }
            ], 
            "source": "test[test[test.Count>10].Divider>20].show()"
        }, 
        {
            "cell_type": "markdown", 
            "metadata": {}, 
            "source": "# Other Join Option\n\n"
        }, 
        {
            "cell_type": "code", 
            "execution_count": 171, 
            "metadata": {}, 
            "outputs": [
                {
                    "output_type": "stream", 
                    "name": "stdout", 
                    "text": "+-------+----------+-----+-----+\n|Product|      Week|Units|Count|\n+-------+----------+-----+-----+\n|6382274|2017-06-06|   23|    1|\n|6413897|2017-06-06|  175|    1|\n|6417159|2017-06-06|   19|    1|\n|6447368|2017-06-06|   42|    1|\n|6471072|2017-06-06|  698|    1|\n|6471064|2017-06-06| 1070|    1|\n|6472028|2017-06-06|  275|    1|\n|6549160|2017-06-06|    5|    1|\n|6546846|2017-06-06|  525|    1|\n|6545149|2017-06-06|   27|    1|\n|6546676|2017-06-06|    6|    1|\n|6552366|2017-06-06|  203|    1|\n|6592821|2017-06-06|  111|    1|\n|6592848|2017-06-06|   85|    1|\n|6607934|2017-06-06|  552|    1|\n|6613497|2017-06-06|   10|    1|\n|6624634|2017-06-06|   72|    1|\n|6619444|2017-06-06|    5|    1|\n|6619452|2017-06-06|    2|    1|\n|6648622|2017-06-06|    1|    1|\n+-------+----------+-----+-----+\nonly showing top 20 rows\n\n"
                }, 
                {
                    "data": {
                        "text/plain": "12860"
                    }, 
                    "output_type": "execute_result", 
                    "execution_count": 171, 
                    "metadata": {}
                }
            ], 
            "source": "fullTable2 = trimSales.join(trimComplaints.select(['Product','Week','Count']), [\"Product\", \"Week\"], how = \"inner\")\nfullTable2.show()\nfullTable2.count()"
        }, 
        {
            "cell_type": "raw", 
            "metadata": {}, 
            "source": ""
        }, 
        {
            "cell_type": "code", 
            "execution_count": 167, 
            "metadata": {
                "collapsed": true
            }, 
            "outputs": [], 
            "source": "import csv"
        }, 
        {
            "cell_type": "code", 
            "execution_count": 178, 
            "metadata": {}, 
            "outputs": [
                {
                    "output_type": "stream", 
                    "name": "stdout", 
                    "text": "Spam, Spam, Spam, Spam, Spam, Baked Beans\nSpam, Lovely Spam, Wonderful Spam\n"
                }
            ], 
            "source": "with open('dave.csv', 'wb') as csvfile:\n    testwriter = csv.writer(csvfile, delimiter=' ',\n                            quotechar='|', quoting=csv.QUOTE_MINIMAL)\n    testwriter.writerow(['Spam'] * 5 + ['Baked Beans'])\n    testwriter.writerow(['Spam', 'Lovely Spam', 'Wonderful Spam'])\n\n    \n    \nwith open('dave.csv', 'rb') as csvfile:\n    spamreader = csv.reader(csvfile, delimiter=' ', quotechar='|')\n    for row in spamreader:\n        print ', '.join(row)"
        }, 
        {
            "cell_type": "code", 
            "execution_count": 182, 
            "metadata": {
                "collapsed": true
            }, 
            "outputs": [], 
            "source": "\n# @hidden_cell\ncredentials_1 = {\n  'auth_url':'https://identity.open.softlayer.com',\n  'project':'object_storage_4f086835_d712_49e7_a28e_5c06caab1694',\n  'project_id':'fe7f408173be4643bbcd317ffa91d389',\n  'region':'dallas',\n  'user_id':'369cb1f256ac4b1d8f6761cc85c1c7a9',\n  'domain_id':'b84739474e5d45ce89e10d9f61f15eab',\n  'domain_name':'1395055',\n  'username':'member_7ae76d923718684278d54c5888457a6125f59653',\n  'password':\"\"\"i0xIU~r^DSSyOU3^\"\"\",\n  'container':'DefaultProjectjstewar1ukibmcom',\n  'tenantId':'undefined',\n  'filename':'Output2.csv'\n}\n"
        }, 
        {
            "cell_type": "code", 
            "execution_count": 180, 
            "metadata": {
                "collapsed": true
            }, 
            "outputs": [], 
            "source": "def set_hadoop_config_with_credentials(creds):  \n    \"\"\"This function sets the Hadoop configuration so it is possible to\n    access data from Bluemix Object Storage using Spark\"\"\"\n\n    # you can choose any name\n    name = 'keystone'\n\n    prefix = 'fs.swift.service.' + name\n    hconf = sc._jsc.hadoopConfiguration()\n    hconf.set(prefix + '.auth.url', 'https://identity.open.softlayer.com'+'/v3/auth/tokens')\n    hconf.set(prefix + '.auth.endpoint.prefix', 'endpoints')\n    hconf.set(prefix + '.tenant', creds['project_id'])\n    hconf.set(prefix + '.username', creds['user_id'])\n    hconf.set(prefix + '.password', creds['password'])\n    hconf.setInt(prefix + '.http.port', 8080)\n    hconf.set(prefix + '.region', 'dallas')\n    hconf.setBoolean(prefix + '.public', False)\n"
        }, 
        {
            "cell_type": "code", 
            "execution_count": 183, 
            "metadata": {
                "collapsed": true
            }, 
            "outputs": [], 
            "source": "set_hadoop_config_with_credentials(credentials_1)"
        }, 
        {
            "cell_type": "code", 
            "execution_count": 186, 
            "metadata": {
                "collapsed": true
            }, 
            "outputs": [], 
            "source": "fileNameOut = 'swift://'+ credentials_1['container'] + '.keystone/Output3.csv'  \nfullTable.write.format('com.databricks.spark.csv').options(header='true').save(fileNameOut) "
        }, 
        {
            "cell_type": "code", 
            "execution_count": 189, 
            "metadata": {}, 
            "outputs": [
                {
                    "output_type": "stream", 
                    "name": "stdout", 
                    "text": "+-------+----------+-----+-----+\n|Product|      Week|Count|Units|\n+-------+----------+-----+-----+\n|1017209|2017-05-09|    2|  295|\n|1017179|2017-05-09|    2|  961|\n|1020579|2017-05-09|    1|  734|\n|1017217|2017-05-09|    1|  405|\n|1011413|2017-05-09|    1|  137|\n|1010565|2017-05-09|    1|   14|\n|1020536|2017-05-09|    1| 2590|\n|1017233|2017-05-09|    2|  605|\n|1018434|2017-05-09|    1|    5|\n|1020609|2017-05-09|    1|  733|\n|1023985|2017-05-09|    1|  617|\n|1041827|2017-05-09|    1| 1287|\n|1035029|2017-05-09|    1|  788|\n|1036033|2017-05-09|    1|  324|\n|1035657|2017-05-09|    1| 1417|\n|1041800|2017-05-09|    1|  374|\n|1035932|2017-05-09|    1| 2855|\n|1041819|2017-05-09|    2| 1267|\n|1047264|2017-05-09|    1|  214|\n|1059874|2017-05-09|    1| 2848|\n+-------+----------+-----+-----+\nonly showing top 20 rows\n\n"
                }
            ], 
            "source": "\ndf_data_2 = spark.read\\\n  .format('org.apache.spark.sql.execution.datasources.csv.CSVFileFormat')\\\n  .option('header', 'true')\\\n  .load(bmos.url('DefaultProjectjstewar1ukibmcom', 'Output3.csv'))\ndf_data_2.show()"
        }, 
        {
            "cell_type": "code", 
            "execution_count": null, 
            "metadata": {
                "collapsed": true
            }, 
            "outputs": [], 
            "source": "\n# @hidden_cell\ncredentials_2 = {\n  'auth_url':'https://identity.open.softlayer.com',\n  'project':'object_storage_4f086835_d712_49e7_a28e_5c06caab1694',\n  'project_id':'fe7f408173be4643bbcd317ffa91d389',\n  'region':'dallas',\n  'user_id':'369cb1f256ac4b1d8f6761cc85c1c7a9',\n  'domain_id':'b84739474e5d45ce89e10d9f61f15eab',\n  'domain_name':'1395055',\n  'username':'member_7ae76d923718684278d54c5888457a6125f59653',\n  'password':\"\"\"i0xIU~r^DSSyOU3^\"\"\",\n  'container':'DefaultProjectjstewar1ukibmcom',\n  'tenantId':'undefined',\n  'filename':'Output3.csv'\n}\n\n"
        }, 
        {
            "cell_type": "code", 
            "execution_count": null, 
            "metadata": {
                "collapsed": true
            }, 
            "outputs": [], 
            "source": ""
        }
    ], 
    "nbformat_minor": 1, 
    "metadata": {
        "kernelspec": {
            "display_name": "Python 2 with Spark 2.0", 
            "language": "python", 
            "name": "python2-spark20"
        }, 
        "language_info": {
            "file_extension": ".py", 
            "name": "python", 
            "version": "2.7.11", 
            "mimetype": "text/x-python", 
            "nbconvert_exporter": "python", 
            "pygments_lexer": "ipython2", 
            "codemirror_mode": {
                "version": 2, 
                "name": "ipython"
            }
        }
    }, 
    "nbformat": 4
}